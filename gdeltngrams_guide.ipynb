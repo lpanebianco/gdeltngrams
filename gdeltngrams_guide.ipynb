{
 "cells": [
  {
   "cell_type": "code",
   "execution_count": 1,
   "id": "f26dd038-2f46-4759-b792-7139da179140",
   "metadata": {},
   "outputs": [
    {
     "name": "stdout",
     "output_type": "stream",
     "text": [
      "1.0\n"
     ]
    }
   ],
   "source": [
    "import gdeltngrams as gdgrams\n",
    "print(gdgrams.__version__)"
   ]
  },
  {
   "cell_type": "code",
   "execution_count": 2,
   "id": "a1c5c3ad-d2dd-4319-8971-d9aa05019f2f",
   "metadata": {},
   "outputs": [
    {
     "name": "stdout",
     "output_type": "stream",
     "text": [
      "Help on function ingestion in module gdeltngrams.ingestion:\n",
      "\n",
      "ingestion(\n",
      "    dates: Union[str, List[str]],\n",
      "    hours: Optional[str] = None,\n",
      "    output_dir='.',\n",
      "    language_filter: Optional[str] = None,\n",
      "    url_filter: Optional[str] = None\n",
      ") -> None\n",
      "    This function imports data from the GDELT Web News NGrams 3.0 Dataset, which provides near-real-time global news content.\n",
      "\n",
      "    Parameters:\n",
      "    - dates (str or List[str]): a single date (YYYYMMDD) or a list of such elements.\n",
      "    - hours (str or List[str], optional): a single hour (HH) or list of hours to filter. Default is None (no hour filtering).\n",
      "    - output_dir (str, optional): directory to save the GDELT JSON data. Default is \".\" (current directory).\n",
      "    - language_filter (str, optional): language code to filter articles. Default is None (no language filtering).\n",
      "    - url_filter (str, optional): substring that must appear in the source URL. Default is None (no URL filtering).\n",
      "    Returns:\n",
      "    - None. Writes output to given JSON and CSV paths.\n",
      "\n"
     ]
    }
   ],
   "source": [
    "help(gdgrams.ingestion)"
   ]
  },
  {
   "cell_type": "code",
   "execution_count": 3,
   "id": "ae14da69-c628-4251-9be1-db464d5dd91b",
   "metadata": {},
   "outputs": [
    {
     "name": "stderr",
     "output_type": "stream",
     "text": [
      "2025-07-07 10:51:56,786 INFO Starting ingestion process...\n",
      "2025-07-07 10:52:35,313 INFO Webngrams for timestamp 20250101000100 filtered and saved to ingestion_folder/20250101000100.webngrams.json\n",
      "2025-07-07 10:53:02,306 INFO Webngrams for timestamp 20250101001600 filtered and saved to ingestion_folder/20250101001600.webngrams.json\n",
      "2025-07-07 10:53:20,811 INFO Webngrams for timestamp 20250101003100 filtered and saved to ingestion_folder/20250101003100.webngrams.json\n",
      "2025-07-07 10:53:21,908 INFO Webngrams for timestamp 20250101003200 filtered and saved to ingestion_folder/20250101003200.webngrams.json\n",
      "2025-07-07 10:53:52,210 INFO Webngrams for timestamp 20250101004600 filtered and saved to ingestion_folder/20250101004600.webngrams.json\n",
      "2025-07-07 10:53:53,479 INFO Webngrams for timestamp 20250101004700 filtered and saved to ingestion_folder/20250101004700.webngrams.json\n",
      "2025-07-07 10:53:56,076 INFO Ingestion process completed.\n"
     ]
    }
   ],
   "source": [
    "gdgrams.ingestion(\n",
    "    dates = \"20250101\", \n",
    "    hours = \"00\", \n",
    "    output_dir = 'ingestion_folder', \n",
    "    language_filter = \"en\", \n",
    "    url_filter = None)"
   ]
  },
  {
   "cell_type": "code",
   "execution_count": 4,
   "id": "bf22d3a2-4777-411f-bf48-29a8aeb3718c",
   "metadata": {},
   "outputs": [
    {
     "name": "stdout",
     "output_type": "stream",
     "text": [
      "Help on function multiprocess in module gdeltngrams.multiprocess:\n",
      "\n",
      "multiprocess(\n",
      "    input_path: str,\n",
      "    output_file: str,\n",
      "    language_filter: str = 'en',\n",
      "    url_filter: Optional[str] = None,\n",
      "    num_processes: Optional[int] = None,\n",
      "    keywords: Union[str, List[str], NoneType] = None,\n",
      "    text_condition: Optional[Callable[[str], bool]] = None\n",
      ") -> None\n",
      "    Reads one or more line-based JSON files (a single file or a folder) and processes\n",
      "    articles in parallel using multiprocessing. All results are written to a single output file.\n",
      "\n",
      "    Parameters:\n",
      "        input_path (str): Path to a JSONL file or a directory containing multiple JSONL files.\n",
      "        output_file (str): Path to the output file where results will be saved.\n",
      "        language_filter (str, optional): Language code to filter articles. Default is \"en\".\n",
      "        url_filter (str, optional): Substring to filter articles by URL. Default is None (no filtering).\n",
      "        num_processes (int, optional): Number of processes for multiprocessing. Default is None, which uses all available CPU cores.\n",
      "        keywords (str or List[str], optional): Case-insensitive keyword(s) to filter text content before processing. Each keyword should contain one or two space-separated words. Longer keywords are accepted but may result in missing articles. Default is None (no keyword filtering).\n",
      "        text_condition (Callable[[str], bool], optional): Function to filter the reconstructed text. Takes a string and returns True to keep or False to discard. Default is None (no filtering).\n",
      "    Returns:\n",
      "        None. Writes processed results to the specified output file.\n",
      "\n"
     ]
    }
   ],
   "source": [
    "help(gdgrams.multiprocess)"
   ]
  },
  {
   "cell_type": "code",
   "execution_count": 5,
   "id": "c8007585-3cbe-4f72-ad0d-97271053aff0",
   "metadata": {},
   "outputs": [
    {
     "name": "stderr",
     "output_type": "stream",
     "text": [
      "2025-07-07 10:53:56,198 INFO Loading and filtering ingestion_folder/20250101000100.webngrams.json using 4 processes...\n",
      "2025-07-07 10:54:16,499 INFO Processing 145/3095 articles from ingestion_folder/20250101000100.webngrams.json...\n",
      "Processing articles: 100%|████████████████████| 145/145 [02:26<00:00,  1.01s/it]\n",
      "2025-07-07 10:56:43,489 INFO Loading and filtering ingestion_folder/20250101001600.webngrams.json using 4 processes...\n",
      "2025-07-07 10:57:01,243 INFO Processing 117/2948 articles from ingestion_folder/20250101001600.webngrams.json...\n",
      "Processing articles: 100%|████████████████████| 117/117 [02:42<00:00,  1.39s/it]\n",
      "2025-07-07 10:59:43,397 INFO Loading and filtering ingestion_folder/20250101003100.webngrams.json using 4 processes...\n",
      "2025-07-07 10:59:57,276 INFO Processing 68/2329 articles from ingestion_folder/20250101003100.webngrams.json...\n",
      "Processing articles: 100%|██████████████████████| 68/68 [03:38<00:00,  3.22s/it]\n",
      "2025-07-07 11:03:36,323 INFO Loading and filtering ingestion_folder/20250101003200.webngrams.json using 4 processes...\n",
      "2025-07-07 11:03:36,884 WARNING No valid articles to process in ingestion_folder/20250101003200.webngrams.json. Skipping.\n",
      "2025-07-07 11:03:36,885 INFO Loading and filtering ingestion_folder/20250101004600.webngrams.json using 4 processes...\n",
      "2025-07-07 11:04:02,401 INFO Processing 108/3113 articles from ingestion_folder/20250101004600.webngrams.json...\n",
      "Processing articles: 100%|████████████████████| 108/108 [05:37<00:00,  3.13s/it]\n",
      "2025-07-07 11:09:40,072 INFO Loading and filtering ingestion_folder/20250101004700.webngrams.json using 4 processes...\n",
      "2025-07-07 11:09:40,145 WARNING No valid articles to process in ingestion_folder/20250101004700.webngrams.json. Skipping.\n"
     ]
    }
   ],
   "source": [
    "gdgrams.multiprocess(\n",
    "    input_path = 'ingestion_folder', \n",
    "    output_file = 'example.gdeltnews.webngrams.csv', \n",
    "    language_filter = \"en\",\n",
    "    url_filter = None, \n",
    "    num_processes = None,\n",
    "    keywords = [\"Trump\", \"der Leyen\"],\n",
    "    text_condition = lambda text: len(text) > 300 and \"israel\" in text.lower() \n",
    ") "
   ]
  },
  {
   "cell_type": "code",
   "execution_count": null,
   "id": "a7e8630c-dba3-4b14-9e01-e15ff9e0ded2",
   "metadata": {},
   "outputs": [],
   "source": []
  }
 ],
 "metadata": {
  "kernelspec": {
   "display_name": "Python [conda env:py313] *",
   "language": "python",
   "name": "conda-env-py313-py"
  },
  "language_info": {
   "codemirror_mode": {
    "name": "ipython",
    "version": 3
   },
   "file_extension": ".py",
   "mimetype": "text/x-python",
   "name": "python",
   "nbconvert_exporter": "python",
   "pygments_lexer": "ipython3",
   "version": "3.13.3"
  }
 },
 "nbformat": 4,
 "nbformat_minor": 5
}
