{
 "cells": [
  {
   "cell_type": "code",
   "execution_count": 1,
   "id": "f26dd038-2f46-4759-b792-7139da179140",
   "metadata": {},
   "outputs": [
    {
     "name": "stdout",
     "output_type": "stream",
     "text": [
      "1.0.1\n"
     ]
    }
   ],
   "source": [
    "import gdeltngrams as gdn\n",
    "print(gdn.__version__)"
   ]
  },
  {
   "cell_type": "code",
   "execution_count": 2,
   "id": "a1c5c3ad-d2dd-4319-8971-d9aa05019f2f",
   "metadata": {},
   "outputs": [
    {
     "name": "stdout",
     "output_type": "stream",
     "text": [
      "Help on function ingestion in module gdeltngrams.ingestion:\n",
      "\n",
      "ingestion(dates: Union[int, str, List[Union[int, str]]], hours: Union[int, str, List[Union[int, str]], NoneType] = None, output_dir: str = '.', language_filter: Optional[str] = None, url_filter: Optional[str] = None) -> None\n",
      "    Import data from the GDELT Web News NGrams 3.0 Dataset.\n",
      "    \n",
      "    Args:\n",
      "        dates (int, str, list of int or str): One or more dates in YYYYMMDD format.\n",
      "        hours (int, str, list of int or str, optional): One or more hours in HH format. Defaults to None (all hours).\n",
      "        output_dir (str, optional): Directory to save output files. Defaults to \".\".\n",
      "        language_filter (str, optional): ISO 639-1 two-letter language code to filter articles. Defaults to None.\n",
      "        url_filter (str, optional): Substring to filter URLs. Defaults to None.\n",
      "    \n",
      "    Returns:\n",
      "        None: Writes JSON files to the specified output directory.\n",
      "\n"
     ]
    }
   ],
   "source": [
    "help(gdn.ingestion)"
   ]
  },
  {
   "cell_type": "code",
   "execution_count": 3,
   "id": "ae14da69-c628-4251-9be1-db464d5dd91b",
   "metadata": {},
   "outputs": [
    {
     "name": "stderr",
     "output_type": "stream",
     "text": [
      "2025-07-09 16:04:37,003 INFO Starting ingestion process...\n",
      "2025-07-09 16:05:17,906 INFO Webngrams for timestamp 20250101000100 filtered and saved to ingestion_folder/20250101000100.webngrams.json\n",
      "2025-07-09 16:05:44,972 INFO Webngrams for timestamp 20250101001600 filtered and saved to ingestion_folder/20250101001600.webngrams.json\n",
      "2025-07-09 16:06:02,428 INFO Webngrams for timestamp 20250101003100 filtered and saved to ingestion_folder/20250101003100.webngrams.json\n",
      "2025-07-09 16:06:03,573 INFO Webngrams for timestamp 20250101003200 filtered and saved to ingestion_folder/20250101003200.webngrams.json\n",
      "2025-07-09 16:06:32,299 INFO Webngrams for timestamp 20250101004600 filtered and saved to ingestion_folder/20250101004600.webngrams.json\n",
      "2025-07-09 16:06:33,494 INFO Webngrams for timestamp 20250101004700 filtered and saved to ingestion_folder/20250101004700.webngrams.json\n",
      "2025-07-09 16:06:34,030 INFO Ingestion process completed.\n"
     ]
    }
   ],
   "source": [
    "gdn.ingestion(\n",
    "    dates = \"20250101\", \n",
    "    hours = \"00\", \n",
    "    output_dir = 'ingestion_folder', \n",
    "    language_filter = \"en\", \n",
    "    url_filter = None)"
   ]
  },
  {
   "cell_type": "code",
   "execution_count": 4,
   "id": "bf22d3a2-4777-411f-bf48-29a8aeb3718c",
   "metadata": {},
   "outputs": [
    {
     "name": "stdout",
     "output_type": "stream",
     "text": [
      "Help on function multiprocess in module gdeltngrams.multiprocess:\n",
      "\n",
      "multiprocess(input_path: str, output_file: str, language_filter: str = 'en', url_filter: Optional[str] = None, num_processes: Optional[int] = None, keywords: Union[str, List[str], NoneType] = None, text_condition: Optional[Callable[[str], bool]] = None) -> None\n",
      "    Process JSON files in parallel using multiprocessing.\n",
      "    \n",
      "    Args:\n",
      "        input_path (str): Path to a JSONL file or directory with JSONL files.\n",
      "        output_file (str): Path where processed results are saved.\n",
      "        language_filter (str, optional): ISO 639-1 two-letter language code to filter articles. Defaults to \"en\".\n",
      "        url_filter (str, optional): URL substring filter. Defaults to None.\n",
      "        num_processes (int, optional): Number of processes to use. Defaults to None (all cores).\n",
      "        keywords (str or list of str, optional): Keyword(s) to filter text content. Defaults to None.\n",
      "        text_condition (Callable[[str], bool], optional): Function to filter text content. Defaults to None.\n",
      "    \n",
      "    Returns:\n",
      "        None: Writes processed results to the specified output file.\n",
      "\n"
     ]
    }
   ],
   "source": [
    "help(gdn.multiprocess)"
   ]
  },
  {
   "cell_type": "code",
   "execution_count": 5,
   "id": "c8007585-3cbe-4f72-ad0d-97271053aff0",
   "metadata": {},
   "outputs": [
    {
     "name": "stderr",
     "output_type": "stream",
     "text": [
      "2025-07-09 16:06:34,160 INFO Loading and filtering ingestion_folder/20250101000100.webngrams.json...\n",
      "2025-07-09 16:07:00,262 INFO Using 4 logical cores to process 145/3095 articles from ingestion_folder/20250101000100.webngrams.json...\n",
      "Processing articles: 100%|████████████████████| 145/145 [02:47<00:00,  1.16s/it]\n",
      "2025-07-09 16:09:47,939 INFO Loading and filtering ingestion_folder/20250101001600.webngrams.json...\n",
      "2025-07-09 16:10:10,816 INFO Using 4 logical cores to process 117/2948 articles from ingestion_folder/20250101001600.webngrams.json...\n",
      "Processing articles: 100%|████████████████████| 117/117 [03:07<00:00,  1.60s/it]\n",
      "2025-07-09 16:13:18,296 INFO Loading and filtering ingestion_folder/20250101003100.webngrams.json...\n",
      "2025-07-09 16:13:34,008 INFO Using 4 logical cores to process 68/2329 articles from ingestion_folder/20250101003100.webngrams.json...\n",
      "Processing articles: 100%|██████████████████████| 68/68 [03:28<00:00,  3.06s/it]\n",
      "2025-07-09 16:17:02,441 INFO Loading and filtering ingestion_folder/20250101003200.webngrams.json...\n",
      "2025-07-09 16:17:03,140 INFO No articles to process in ingestion_folder/20250101003200.webngrams.json. Skipping.\n",
      "2025-07-09 16:17:03,141 INFO Loading and filtering ingestion_folder/20250101004600.webngrams.json...\n",
      "2025-07-09 16:17:30,512 INFO Using 4 logical cores to process 108/3113 articles from ingestion_folder/20250101004600.webngrams.json...\n",
      "Processing articles: 100%|████████████████████| 108/108 [29:01<00:00, 16.12s/it]\n",
      "2025-07-09 16:46:32,130 INFO Loading and filtering ingestion_folder/20250101004700.webngrams.json...\n",
      "2025-07-09 16:46:32,226 INFO No articles to process in ingestion_folder/20250101004700.webngrams.json. Skipping.\n"
     ]
    }
   ],
   "source": [
    "gdn.multiprocess(\n",
    "    input_path = 'ingestion_folder', \n",
    "    output_file = 'example.gdeltnews.webngrams.csv', \n",
    "    language_filter = \"en\",\n",
    "    url_filter = None, \n",
    "    num_processes = None,\n",
    "    keywords = [\"Trump\", \"der Leyen\"],\n",
    "    text_condition = lambda text: len(text) > 300 and \"israel\" in text.lower() \n",
    ") "
   ]
  },
  {
   "cell_type": "code",
   "execution_count": null,
   "id": "a7e8630c-dba3-4b14-9e01-e15ff9e0ded2",
   "metadata": {},
   "outputs": [],
   "source": []
  }
 ],
 "metadata": {
  "kernelspec": {
   "display_name": "Python 3 (ipykernel)",
   "language": "python",
   "name": "python3"
  },
  "language_info": {
   "codemirror_mode": {
    "name": "ipython",
    "version": 3
   },
   "file_extension": ".py",
   "mimetype": "text/x-python",
   "name": "python",
   "nbconvert_exporter": "python",
   "pygments_lexer": "ipython3",
   "version": "3.9.23"
  }
 },
 "nbformat": 4,
 "nbformat_minor": 5
}
